{
 "cells": [
  {
   "cell_type": "code",
   "execution_count": 1,
   "metadata": {},
   "outputs": [],
   "source": [
    "%load_ext autoreload\n",
    "%autoreload 2"
   ]
  },
  {
   "cell_type": "code",
   "execution_count": 2,
   "metadata": {},
   "outputs": [],
   "source": [
    "from src.demographic_recommender import DemographicRecommender\n",
    "from src.content_recommender import ContentRecommender\n",
    "from src.collaborative_recommender import CollaborativeRecommender\n",
    "from src.hybrid_recommender import HybridRecommender\n",
    "from src.group_recommender import GroupRecommender\n"
   ]
  },
  {
   "cell_type": "code",
   "execution_count": 4,
   "metadata": {},
   "outputs": [
    {
     "name": "stdout",
     "output_type": "stream",
     "text": [
      "[(array([ 0.  , 10.45,  6.36,  0.  , 12.73,  0.  ,  0.  ,  0.  ,  0.  ,\n",
      "        0.  ,  0.  ,  0.  ,  0.  ,  0.  ,  0.  ,  0.  , 15.73, 17.45,\n",
      "       17.27, 17.18, 17.73, 17.45, 17.27, 16.18, 16.09, 16.36, 16.82,\n",
      "       16.73, 18.36, 19.  , 16.64, 18.73, 18.64, 18.73, 18.36, 18.18,\n",
      "       16.82,  5.64, 12.36,  6.  ,  3.64,  4.  ,  7.27,  5.  ,  7.27,\n",
      "        6.18, 13.  , 11.18, 11.18, 10.  ,  5.18,  4.91,  4.09,  4.18,\n",
      "        5.73,  6.09,  4.82,  4.  ,  0.  ,  4.18,  4.  ,  4.09,  6.  ,\n",
      "        6.73,  5.91,  4.73,  5.55,  6.36, 10.  ,  4.36,  3.91,  3.36,\n",
      "        7.  ,  6.64,  6.36,  6.55,  6.45,  6.36,  6.55,  6.64,  4.91,\n",
      "        5.  ,  5.36,  6.09,  6.55,  6.27,  6.18,  7.27,  7.  ,  7.  ,\n",
      "        6.91,  7.09,  6.73,  7.18,  6.09,  6.18, 10.55,  6.  ,  5.73,\n",
      "        5.18,  6.55,  5.27,  7.  ,  5.09,  5.18,  5.64, 18.55,  5.  ,\n",
      "        5.  ,  5.  ,  6.09,  5.64,  3.09,  4.73,  2.91, 14.27]), 'fuerzas armadas sin hijos')]\n",
      "      item  score1  score2  views                      other\n",
      "0    17374   12.73      80     35  fuerzas armadas sin hijos\n",
      "1    17380   12.73      80     28  fuerzas armadas sin hijos\n",
      "2    17393   12.73      80     37  fuerzas armadas sin hijos\n",
      "3    17432   12.73      48     29  fuerzas armadas sin hijos\n",
      "4    17492   12.73      49     13  fuerzas armadas sin hijos\n",
      "..     ...     ...     ...    ...                        ...\n",
      "319  17499   14.27      36     17  fuerzas armadas sin hijos\n",
      "320  17504   14.27      45      8  fuerzas armadas sin hijos\n",
      "321  17557   14.27      30      0  fuerzas armadas sin hijos\n",
      "322  17558   14.27      50      0  fuerzas armadas sin hijos\n",
      "323  18004   14.27      80      0  fuerzas armadas sin hijos\n",
      "\n",
      "[324 rows x 5 columns]\n"
     ]
    },
    {
     "data": {
      "text/plain": [
       "[(np.int64(17439),\n",
       "  'Playa de la Malvarrosa',\n",
       "  np.float64(13.749736842105264),\n",
       "  'fuerzas armadas sin hijos'),\n",
       " (np.int64(17549),\n",
       "  'Playa de las Arenas',\n",
       "  np.float64(13.591315789473683),\n",
       "  'fuerzas armadas sin hijos'),\n",
       " (np.int64(17438),\n",
       "  'Plaza de la Virgen',\n",
       "  np.float64(13.527368421052632),\n",
       "  'fuerzas armadas sin hijos'),\n",
       " (np.int64(17440),\n",
       "  'Plaza Redonda',\n",
       "  np.float64(13.404473684210526),\n",
       "  'fuerzas armadas sin hijos'),\n",
       " (np.int64(17437),\n",
       "  'Plaza del Mercado',\n",
       "  np.float64(13.345),\n",
       "  'fuerzas armadas sin hijos')]"
      ]
     },
     "execution_count": 4,
     "metadata": {},
     "output_type": "execute_result"
    }
   ],
   "source": [
    "br=DemographicRecommender()\n",
    "br.recommend(\n",
    "    user_id=150,\n",
    "    n=5,)"
   ]
  },
  {
   "cell_type": "code",
   "execution_count": 4,
   "metadata": {},
   "outputs": [
    {
     "data": {
      "text/plain": [
       "[(np.int64(17439),\n",
       "  'Playa de las Arenas',\n",
       "  np.float64(12.819736842105264),\n",
       "  'entre treinta y cuarenta sin hijos'),\n",
       " (np.int64(17549),\n",
       "  'Plaza de la Virgen',\n",
       "  np.float64(12.661315789473683),\n",
       "  'entre treinta y cuarenta sin hijos'),\n",
       " (np.int64(17438),\n",
       "  'Plaza de la Reina',\n",
       "  np.float64(12.412368421052632),\n",
       "  'entre treinta y cuarenta sin hijos'),\n",
       " (np.int64(17545),\n",
       "  'Plaza del Ayuntamiento',\n",
       "  np.float64(12.407105263157895),\n",
       "  'entre treinta y cuarenta sin hijos'),\n",
       " (np.int64(17547),\n",
       "  'Plaza del Mercado',\n",
       "  np.float64(12.257105263157897),\n",
       "  'entre treinta y cuarenta sin hijos')]"
      ]
     },
     "execution_count": 4,
     "metadata": {},
     "output_type": "execute_result"
    }
   ],
   "source": [
    "br.recommend(\n",
    "    user_id=176,\n",
    "    n=5,)"
   ]
  },
  {
   "cell_type": "code",
   "execution_count": 4,
   "metadata": {},
   "outputs": [
    {
     "data": {
      "text/plain": [
       "[(np.int64(17439), 'Playa de las Arenas', np.float64(8.884736842105264), None),\n",
       " (np.int64(17438), 'Plaza de la Virgen', np.float64(8.847368421052632), None),\n",
       " (np.int64(17549), 'Jardines de Viveros', np.float64(8.726315789473684), None),\n",
       " (np.int64(17444), 'Jardines del Turia', np.float64(8.607368421052632), None),\n",
       " (np.int64(17520), 'Plaza del Mercado', np.float64(8.554736842105264), None)]"
      ]
     },
     "execution_count": 4,
     "metadata": {},
     "output_type": "execute_result"
    }
   ],
   "source": [
    "cr=ContentRecommender()\n",
    "cr.recommend(\n",
    "    user_id=180,\n",
    "    n=5,)"
   ]
  },
  {
   "cell_type": "code",
   "execution_count": 3,
   "metadata": {},
   "outputs": [
    {
     "data": {
      "text/plain": [
       "[(np.int64(17484),\n",
       "  'Museo de Cerámica (Palacio Marqués de Dos Aguas)',\n",
       "  np.float64(0.0),\n",
       "  np.int64(2)),\n",
       " (np.int64(17377),\n",
       "  'Museo de historia de Valencia',\n",
       "  np.float64(0.0),\n",
       "  np.int64(3)),\n",
       " (np.int64(17376),\n",
       "  'Monasterio de San Miguel de los Reyes (Biblioteca Valenciana Nicolau Primitiu)',\n",
       "  np.float64(0.0),\n",
       "  np.int64(2)),\n",
       " (np.int64(17425), \"Casa de la America's Cup\", np.float64(0.0), np.int64(4)),\n",
       " (np.int64(17509), 'Iglesia de San Agustín', np.float64(0.0), np.int64(1))]"
      ]
     },
     "execution_count": 3,
     "metadata": {},
     "output_type": "execute_result"
    }
   ],
   "source": [
    "co =CollaborativeRecommender()\n",
    "co.recommend(\n",
    "    user_id=163,\n",
    "    n=5,)"
   ]
  },
  {
   "cell_type": "code",
   "execution_count": 21,
   "metadata": {},
   "outputs": [
    {
     "data": {
      "text/plain": [
       "[(17374, 'El Oceanográfico', 5.940701754385964, None),\n",
       " (17401, 'La Lonja de la Seda o de los Mercaderes', 5.566491228070175, None),\n",
       " (17419, 'Catedral', 5.466403508771929, None),\n",
       " (17440, 'Plaza Redonda', 5.282071752414744, None),\n",
       " (17397, 'Estación del Norte', 5.262799132663117, None)]"
      ]
     },
     "execution_count": 21,
     "metadata": {},
     "output_type": "execute_result"
    }
   ],
   "source": [
    "hy =HybridRecommender()\n",
    "hy.recommend(\n",
    "    user_id=123,\n",
    "    n=5,)"
   ]
  },
  {
   "cell_type": "code",
   "execution_count": 36,
   "metadata": {},
   "outputs": [
    {
     "data": {
      "text/plain": [
       "[(np.int64(17439), 'El Oceanográfico', 1.0, 8),\n",
       " (np.int64(17401), 'Plaza del Carmen', 0.6666666666666666, 4),\n",
       " (np.int64(17438), 'Plaza de la Reina', 0.6666666666666666, 6),\n",
       " (np.int64(17547), 'Plaza del Carmen', 0.6666666666666666, 9),\n",
       " (np.int64(17545), 'Playa de las Arenas', 0.6666666666666666, 10)]"
      ]
     },
     "execution_count": 36,
     "metadata": {},
     "output_type": "execute_result"
    }
   ],
   "source": [
    "gr=GroupRecommender()\n",
    "gr.group_recommend(\n",
    "    users_id=[123,176,180],\n",
    "    n=5,)"
   ]
  }
 ],
 "metadata": {
  "kernelspec": {
   "display_name": "valencia-tour-recommender-n_5Lr2TL-py3.10",
   "language": "python",
   "name": "python3"
  },
  "language_info": {
   "codemirror_mode": {
    "name": "ipython",
    "version": 3
   },
   "file_extension": ".py",
   "mimetype": "text/x-python",
   "name": "python",
   "nbconvert_exporter": "python",
   "pygments_lexer": "ipython3",
   "version": "3.10.16"
  }
 },
 "nbformat": 4,
 "nbformat_minor": 2
}
