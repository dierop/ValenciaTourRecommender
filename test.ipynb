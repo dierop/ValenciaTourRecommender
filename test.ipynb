{
 "cells": [
  {
   "cell_type": "code",
   "execution_count": 1,
   "metadata": {},
   "outputs": [],
   "source": [
    "%load_ext autoreload\n",
    "%autoreload 2"
   ]
  },
  {
   "cell_type": "code",
   "execution_count": 2,
   "metadata": {},
   "outputs": [],
   "source": [
    "from src.demographic_recommender import DemographicRecommender\n",
    "from src.content_recommender import ContentRecommender\n",
    "from src.collaborative_recommender import CollaborativeRecommender\n",
    "from src.evaluation import recommender_evaluation"
   ]
  },
  {
   "cell_type": "code",
   "execution_count": 10,
   "metadata": {},
   "outputs": [],
   "source": [
    "cr=CollaborativeRecommender()"
   ]
  },
  {
   "cell_type": "code",
   "execution_count": 15,
   "metadata": {},
   "outputs": [
    {
     "name": "stdout",
     "output_type": "stream",
     "text": [
      "10.680000000000001\n",
      "0     10.000000\n",
      "65     8.717228\n",
      "16     7.106742\n",
      "5      7.013109\n",
      "55     6.966292\n",
      "34     6.526217\n",
      "4      6.460674\n",
      "47     5.599251\n",
      "2      5.402622\n",
      "1      5.308989\n",
      "26     4.728464\n",
      "20     4.438202\n",
      "58     4.325843\n",
      "32     4.157303\n",
      "86     4.110487\n",
      "36     3.146067\n",
      "31     3.117978\n",
      "27     2.958801\n",
      "49     2.640449\n",
      "15     2.640449\n",
      "30     2.593633\n",
      "72     2.481273\n",
      "23     2.303371\n",
      "24     2.303371\n",
      "87     2.275281\n",
      "29     2.247191\n",
      "28     2.247191\n",
      "51     2.134831\n",
      "54     2.134831\n",
      "57     2.078652\n",
      "69     2.078652\n",
      "66     2.078652\n",
      "82     1.910112\n",
      "94     1.910112\n",
      "83     1.910112\n",
      "92     1.910112\n",
      "93     1.910112\n",
      "85     1.910112\n",
      "84     1.910112\n",
      "89     1.591760\n",
      "88     1.591760\n",
      "6      1.226592\n",
      "19     0.880150\n",
      "35     0.730337\n",
      "60     0.655431\n",
      "79     0.646067\n",
      "8      0.514981\n",
      "10     0.505618\n",
      "43     0.365169\n",
      "44     0.365169\n",
      "38     0.365169\n",
      "62     0.346442\n",
      "73     0.346442\n",
      "78     0.337079\n",
      "Name: score, dtype: float64\n"
     ]
    },
    {
     "data": {
      "text/plain": [
       "[(np.int64(17374), 'El Oceanográfico', np.float64(10.0), np.int64(4)),\n",
       " (np.int64(17415),\n",
       "  'Ciudad de las Ciencias',\n",
       "  np.float64(8.717228464419472),\n",
       "  np.int64(5)),\n",
       " (np.int64(17440),\n",
       "  'Estación del Norte',\n",
       "  np.float64(7.106741573033705),\n",
       "  np.int64(4)),\n",
       " (np.int64(17393),\n",
       "  'Teatro Principal',\n",
       "  np.float64(7.013108614232209),\n",
       "  np.int64(3)),\n",
       " (np.int64(17397), 'Plaza Redonda', np.float64(6.96629213483146), np.int64(3))]"
      ]
     },
     "execution_count": 15,
     "metadata": {},
     "output_type": "execute_result"
    }
   ],
   "source": [
    "cr.recommend(123, 5)"
   ]
  },
  {
   "cell_type": "code",
   "execution_count": 7,
   "metadata": {},
   "outputs": [
    {
     "data": {
      "text/html": [
       "<div>\n",
       "<style scoped>\n",
       "    .dataframe tbody tr th:only-of-type {\n",
       "        vertical-align: middle;\n",
       "    }\n",
       "\n",
       "    .dataframe tbody tr th {\n",
       "        vertical-align: top;\n",
       "    }\n",
       "\n",
       "    .dataframe thead th {\n",
       "        text-align: right;\n",
       "    }\n",
       "</style>\n",
       "<table border=\"1\" class=\"dataframe\">\n",
       "  <thead>\n",
       "    <tr style=\"text-align: right;\">\n",
       "      <th></th>\n",
       "      <th>user</th>\n",
       "      <th>place</th>\n",
       "      <th>score</th>\n",
       "    </tr>\n",
       "  </thead>\n",
       "  <tbody>\n",
       "    <tr>\n",
       "      <th>0</th>\n",
       "      <td>123</td>\n",
       "      <td>17376</td>\n",
       "      <td>6</td>\n",
       "    </tr>\n",
       "    <tr>\n",
       "      <th>1</th>\n",
       "      <td>123</td>\n",
       "      <td>17377</td>\n",
       "      <td>6</td>\n",
       "    </tr>\n",
       "    <tr>\n",
       "      <th>2</th>\n",
       "      <td>123</td>\n",
       "      <td>17380</td>\n",
       "      <td>6</td>\n",
       "    </tr>\n",
       "    <tr>\n",
       "      <th>3</th>\n",
       "      <td>123</td>\n",
       "      <td>17392</td>\n",
       "      <td>3</td>\n",
       "    </tr>\n",
       "    <tr>\n",
       "      <th>4</th>\n",
       "      <td>123</td>\n",
       "      <td>17395</td>\n",
       "      <td>4</td>\n",
       "    </tr>\n",
       "    <tr>\n",
       "      <th>5</th>\n",
       "      <td>123</td>\n",
       "      <td>17405</td>\n",
       "      <td>3</td>\n",
       "    </tr>\n",
       "    <tr>\n",
       "      <th>6</th>\n",
       "      <td>123</td>\n",
       "      <td>17411</td>\n",
       "      <td>1</td>\n",
       "    </tr>\n",
       "    <tr>\n",
       "      <th>7</th>\n",
       "      <td>123</td>\n",
       "      <td>17421</td>\n",
       "      <td>2</td>\n",
       "    </tr>\n",
       "    <tr>\n",
       "      <th>8</th>\n",
       "      <td>123</td>\n",
       "      <td>17425</td>\n",
       "      <td>6</td>\n",
       "    </tr>\n",
       "    <tr>\n",
       "      <th>9</th>\n",
       "      <td>123</td>\n",
       "      <td>17426</td>\n",
       "      <td>6</td>\n",
       "    </tr>\n",
       "    <tr>\n",
       "      <th>10</th>\n",
       "      <td>123</td>\n",
       "      <td>17432</td>\n",
       "      <td>6</td>\n",
       "    </tr>\n",
       "    <tr>\n",
       "      <th>11</th>\n",
       "      <td>123</td>\n",
       "      <td>17442</td>\n",
       "      <td>3</td>\n",
       "    </tr>\n",
       "    <tr>\n",
       "      <th>12</th>\n",
       "      <td>123</td>\n",
       "      <td>17484</td>\n",
       "      <td>7</td>\n",
       "    </tr>\n",
       "    <tr>\n",
       "      <th>13</th>\n",
       "      <td>123</td>\n",
       "      <td>17509</td>\n",
       "      <td>6</td>\n",
       "    </tr>\n",
       "    <tr>\n",
       "      <th>14</th>\n",
       "      <td>123</td>\n",
       "      <td>17515</td>\n",
       "      <td>2</td>\n",
       "    </tr>\n",
       "    <tr>\n",
       "      <th>15</th>\n",
       "      <td>123</td>\n",
       "      <td>17528</td>\n",
       "      <td>1</td>\n",
       "    </tr>\n",
       "    <tr>\n",
       "      <th>16</th>\n",
       "      <td>123</td>\n",
       "      <td>17530</td>\n",
       "      <td>3</td>\n",
       "    </tr>\n",
       "    <tr>\n",
       "      <th>17</th>\n",
       "      <td>123</td>\n",
       "      <td>17532</td>\n",
       "      <td>3</td>\n",
       "    </tr>\n",
       "    <tr>\n",
       "      <th>18</th>\n",
       "      <td>123</td>\n",
       "      <td>17552</td>\n",
       "      <td>6</td>\n",
       "    </tr>\n",
       "  </tbody>\n",
       "</table>\n",
       "</div>"
      ],
      "text/plain": [
       "    user  place  score\n",
       "0    123  17376      6\n",
       "1    123  17377      6\n",
       "2    123  17380      6\n",
       "3    123  17392      3\n",
       "4    123  17395      4\n",
       "5    123  17405      3\n",
       "6    123  17411      1\n",
       "7    123  17421      2\n",
       "8    123  17425      6\n",
       "9    123  17426      6\n",
       "10   123  17432      6\n",
       "11   123  17442      3\n",
       "12   123  17484      7\n",
       "13   123  17509      6\n",
       "14   123  17515      2\n",
       "15   123  17528      1\n",
       "16   123  17530      3\n",
       "17   123  17532      3\n",
       "18   123  17552      6"
      ]
     },
     "execution_count": 7,
     "metadata": {},
     "output_type": "execute_result"
    }
   ],
   "source": [
    "cr.data.puntuaciones[cr.data.puntuaciones['user'] == 123]"
   ]
  },
  {
   "cell_type": "code",
   "execution_count": 2,
   "metadata": {},
   "outputs": [],
   "source": [
    "br=DemographicRecommender()"
   ]
  },
  {
   "cell_type": "code",
   "execution_count": 14,
   "metadata": {},
   "outputs": [
    {
     "data": {
      "text/plain": [
       "[(np.int64(17374),\n",
       "  'El Oceanográfico',\n",
       "  np.float64(7.822105263157894),\n",
       "  'media edad con hijos'),\n",
       " (np.int64(17401),\n",
       "  'La Lonja de la Seda o de los Mercaderes',\n",
       "  np.float64(7.704736842105262),\n",
       "  'media edad con hijos'),\n",
       " (np.int64(17439),\n",
       "  'Catedral',\n",
       "  np.float64(7.689736842105263),\n",
       "  'media edad con hijos'),\n",
       " (np.int64(17438),\n",
       "  'Playa de las Arenas',\n",
       "  np.float64(7.652368421052632),\n",
       "  'media edad con hijos'),\n",
       " (np.int64(17419),\n",
       "  'Plaza de la Virgen',\n",
       "  np.float64(7.637105263157895),\n",
       "  'con hijos pequenos')]"
      ]
     },
     "execution_count": 14,
     "metadata": {},
     "output_type": "execute_result"
    }
   ],
   "source": [
    "br.recommend(\n",
    "    user_id=123,\n",
    "    n=5,)"
   ]
  },
  {
   "cell_type": "code",
   "execution_count": null,
   "metadata": {},
   "outputs": [
    {
     "name": "stdout",
     "output_type": "stream",
     "text": [
      "Precisión de cada usuario: [0.4, 0.0, 0.4, 0.2, 0.2, 0.0, 0.0, 0.2, 0.2, 0.2, 0.0, 0.4, 0.2, 0.0, 0.4, 0.2, 0.2, 0.0, 0.2, 0.0, 0.4, 0.2, 0.2, 0.2, 0.2, 0.6, 0.0, 0.0, 0.0, 0.0, 0.0, 0.0, 0.0, 0.0, 0.2, 0.2, 0.0, 0.2, 0.0, 0.0, 0.0, 0.2, 0.0, 0.0, 0.0, 0.2, 0.0, 0.0, 0.0, 0.0, 0.0, 0.0, 0.4, 0.0, 0.2, 0.0, 0.2, 0.2]\n",
      "Accuracy top 5: 12.41379310344828%\n"
     ]
    }
   ],
   "source": [
    "\n",
    "recommender_evaluation(br,5)"
   ]
  },
  {
   "cell_type": "code",
   "execution_count": 5,
   "metadata": {},
   "outputs": [
    {
     "data": {
      "text/plain": [
       "[(np.int64(17401), 'Estación del Norte', np.float64(8.994736842105263), None),\n",
       " (np.int64(17397),\n",
       "  'La Lonja de la Seda o de los Mercaderes',\n",
       "  np.float64(8.822105263157894),\n",
       "  None),\n",
       " (np.int64(17419), 'Catedral', np.float64(8.762105263157896), None),\n",
       " (np.int64(17429), 'Torres de Serranos', np.float64(8.75421052631579), None),\n",
       " (np.int64(17440), 'Plaza Redonda', np.float64(8.739473684210527), None)]"
      ]
     },
     "execution_count": 5,
     "metadata": {},
     "output_type": "execute_result"
    }
   ],
   "source": [
    "cr=ContentRecommender()\n",
    "cr.recommend(\n",
    "    user_id=123,\n",
    "    n=5,)"
   ]
  },
  {
   "cell_type": "code",
   "execution_count": 6,
   "metadata": {},
   "outputs": [
    {
     "name": "stdout",
     "output_type": "stream",
     "text": [
      "Precisión de cada usuario: [0.2, 0.0, 0.2, 0.4, 0.0, 0.0, 0.0, 0.4, 0.2, 0.0, 0.2, 0.4, 0.2, 0.0, 0.0, 0.4, 0.2, 0.0, 0.2, 0.2, 0.4, 0.2, 0.2, 0.2, 0.0, 0.4, 0.0, 0.0, 0.0, 0.2, 0.2, 0.0, 0.2, 0.0, 0.0, 0.2, 0.0, 0.0, 0.0, 0.2, 0.0, 0.2, 0.0, 0.0, 0.0, 0.0, 0.0, 0.0, 0.0, 0.0, 0.0, 0.4, 0.2, 0.0, 0.2, 0.0, 0.0, 0.2]\n",
      "Accuracy top 5: 11.724137931034488%\n"
     ]
    }
   ],
   "source": [
    "recommender_evaluation(cr,5)"
   ]
  }
 ],
 "metadata": {
  "kernelspec": {
   "display_name": "valencia-tour-recommender-n_5Lr2TL-py3.10",
   "language": "python",
   "name": "python3"
  },
  "language_info": {
   "codemirror_mode": {
    "name": "ipython",
    "version": 3
   },
   "file_extension": ".py",
   "mimetype": "text/x-python",
   "name": "python",
   "nbconvert_exporter": "python",
   "pygments_lexer": "ipython3",
   "version": "3.10.16"
  }
 },
 "nbformat": 4,
 "nbformat_minor": 2
}
