{
 "cells": [
  {
   "cell_type": "code",
   "execution_count": 1,
   "metadata": {},
   "outputs": [],
   "source": [
    "%load_ext autoreload\n",
    "%autoreload 2"
   ]
  },
  {
   "cell_type": "code",
   "execution_count": 2,
   "metadata": {},
   "outputs": [],
   "source": [
    "from src.demographic_recommender import DemographicRecommender\n",
    "from src.content_recommender import ContentRecommender\n",
    "from src.collaborative_recommender import CollaborativeRecommender\n",
    "from src.hybrid_recommender import HybridRecommender\n",
    "\n",
    "from src.evaluation import recommender_evaluation"
   ]
  },
  {
   "cell_type": "code",
   "execution_count": 3,
   "metadata": {},
   "outputs": [],
   "source": [
    "br=DemographicRecommender()"
   ]
  },
  {
   "cell_type": "code",
   "execution_count": 4,
   "metadata": {},
   "outputs": [
    {
     "data": {
      "text/plain": [
       "[(np.int64(17374),\n",
       "  'El Oceanográfico',\n",
       "  np.float64(7.822105263157894),\n",
       "  'media edad con hijos'),\n",
       " (np.int64(17401),\n",
       "  'La Lonja de la Seda o de los Mercaderes',\n",
       "  np.float64(7.704736842105262),\n",
       "  'media edad con hijos'),\n",
       " (np.int64(17439),\n",
       "  'Catedral',\n",
       "  np.float64(7.689736842105263),\n",
       "  'media edad con hijos'),\n",
       " (np.int64(17438),\n",
       "  'Playa de las Arenas',\n",
       "  np.float64(7.652368421052632),\n",
       "  'media edad con hijos'),\n",
       " (np.int64(17419),\n",
       "  'Plaza de la Virgen',\n",
       "  np.float64(7.637105263157895),\n",
       "  'con hijos pequenos')]"
      ]
     },
     "execution_count": 4,
     "metadata": {},
     "output_type": "execute_result"
    }
   ],
   "source": [
    "br.recommend(\n",
    "    user_id=123,\n",
    "    n=5,)"
   ]
  },
  {
   "cell_type": "code",
   "execution_count": null,
   "metadata": {},
   "outputs": [
    {
     "name": "stdout",
     "output_type": "stream",
     "text": [
      "Precisión de cada usuario: [0.4, 0.0, 0.4, 0.2, 0.2, 0.0, 0.0, 0.2, 0.2, 0.2, 0.0, 0.4, 0.2, 0.0, 0.4, 0.2, 0.2, 0.0, 0.2, 0.0, 0.4, 0.2, 0.2, 0.2, 0.2, 0.6, 0.0, 0.0, 0.0, 0.0, 0.0, 0.0, 0.0, 0.0, 0.2, 0.2, 0.0, 0.2, 0.0, 0.0, 0.0, 0.2, 0.0, 0.0, 0.0, 0.2, 0.0, 0.0, 0.0, 0.0, 0.0, 0.0, 0.4, 0.0, 0.2, 0.0, 0.2, 0.2]\n",
      "Accuracy top 5: 12.41379310344828%\n"
     ]
    }
   ],
   "source": [
    "\n",
    "recommender_evaluation(br,5)"
   ]
  },
  {
   "cell_type": "code",
   "execution_count": 5,
   "metadata": {},
   "outputs": [
    {
     "data": {
      "text/plain": [
       "[(np.int64(17401), 'Estación del Norte', np.float64(8.994736842105263), None),\n",
       " (np.int64(17397),\n",
       "  'La Lonja de la Seda o de los Mercaderes',\n",
       "  np.float64(8.822105263157894),\n",
       "  None),\n",
       " (np.int64(17419), 'Catedral', np.float64(8.762105263157896), None),\n",
       " (np.int64(17429), 'Torres de Serranos', np.float64(8.75421052631579), None),\n",
       " (np.int64(17440), 'Plaza Redonda', np.float64(8.739473684210527), None)]"
      ]
     },
     "execution_count": 5,
     "metadata": {},
     "output_type": "execute_result"
    }
   ],
   "source": [
    "cr=ContentRecommender()\n",
    "cr.recommend(\n",
    "    user_id=123,\n",
    "    n=5,)"
   ]
  },
  {
   "cell_type": "code",
   "execution_count": 6,
   "metadata": {},
   "outputs": [
    {
     "name": "stdout",
     "output_type": "stream",
     "text": [
      "Precisión de cada usuario: [0.2, 0.0, 0.2, 0.4, 0.0, 0.0, 0.0, 0.4, 0.2, 0.0, 0.2, 0.4, 0.2, 0.0, 0.0, 0.4, 0.2, 0.0, 0.2, 0.2, 0.4, 0.2, 0.2, 0.2, 0.0, 0.4, 0.0, 0.0, 0.0, 0.2, 0.2, 0.0, 0.2, 0.0, 0.0, 0.2, 0.0, 0.0, 0.0, 0.2, 0.0, 0.2, 0.0, 0.0, 0.0, 0.0, 0.0, 0.0, 0.0, 0.0, 0.0, 0.4, 0.2, 0.0, 0.2, 0.0, 0.0, 0.2]\n",
      "Accuracy top 5: 11.724137931034488%\n"
     ]
    }
   ],
   "source": [
    "recommender_evaluation(cr,5)"
   ]
  },
  {
   "cell_type": "code",
   "execution_count": 6,
   "metadata": {},
   "outputs": [
    {
     "data": {
      "text/plain": [
       "[(np.int64(17374), 'El Oceanográfico', np.float64(10.0), np.int64(4)),\n",
       " (np.int64(17415),\n",
       "  'Ciudad de las Ciencias',\n",
       "  np.float64(8.717228464419472),\n",
       "  np.int64(5)),\n",
       " (np.int64(17440),\n",
       "  'Estación del Norte',\n",
       "  np.float64(7.106741573033705),\n",
       "  np.int64(4)),\n",
       " (np.int64(17393),\n",
       "  'Teatro Principal',\n",
       "  np.float64(7.013108614232209),\n",
       "  np.int64(3)),\n",
       " (np.int64(17397), 'Plaza Redonda', np.float64(6.96629213483146), np.int64(3))]"
      ]
     },
     "execution_count": 6,
     "metadata": {},
     "output_type": "execute_result"
    }
   ],
   "source": [
    "co =CollaborativeRecommender()\n",
    "co.recommend(\n",
    "    user_id=123,\n",
    "    n=5,)"
   ]
  },
  {
   "cell_type": "code",
   "execution_count": 7,
   "metadata": {},
   "outputs": [
    {
     "data": {
      "text/plain": [
       "[(17401, 'La Lonja de la Seda o de los Mercaderes', 8.349736842105262, None),\n",
       " (17419, 'Catedral', 8.199605263157896, None),\n",
       " (17397, 'Estación del Norte', 4.411052631578947, None),\n",
       " (17429, 'Torres de Serranos', 4.377105263157895, None),\n",
       " (17440, 'Plaza Redonda', 4.369736842105263, None)]"
      ]
     },
     "execution_count": 7,
     "metadata": {},
     "output_type": "execute_result"
    }
   ],
   "source": [
    "hy =HybridRecommender()\n",
    "hy.recommend(\n",
    "    user_id=123,\n",
    "    n=5,)"
   ]
  }
 ],
 "metadata": {
  "kernelspec": {
   "display_name": "valencia-tour-recommender-n_5Lr2TL-py3.10",
   "language": "python",
   "name": "python3"
  },
  "language_info": {
   "codemirror_mode": {
    "name": "ipython",
    "version": 3
   },
   "file_extension": ".py",
   "mimetype": "text/x-python",
   "name": "python",
   "nbconvert_exporter": "python",
   "pygments_lexer": "ipython3",
   "version": "3.10.16"
  }
 },
 "nbformat": 4,
 "nbformat_minor": 2
}
