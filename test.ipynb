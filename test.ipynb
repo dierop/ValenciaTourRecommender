{
 "cells": [
  {
   "cell_type": "code",
   "execution_count": 5,
   "metadata": {},
   "outputs": [
    {
     "name": "stdout",
     "output_type": "stream",
     "text": [
      "The autoreload extension is already loaded. To reload it, use:\n",
      "  %reload_ext autoreload\n"
     ]
    }
   ],
   "source": [
    "%load_ext autoreload\n",
    "%autoreload 2"
   ]
  },
  {
   "cell_type": "code",
   "execution_count": 6,
   "metadata": {},
   "outputs": [],
   "source": [
    "from src.demographic_recommender import DemographicRecommender"
   ]
  },
  {
   "cell_type": "code",
   "execution_count": 7,
   "metadata": {},
   "outputs": [],
   "source": [
    "br=DemographicRecommender()"
   ]
  },
  {
   "cell_type": "code",
   "execution_count": 8,
   "metadata": {},
   "outputs": [
    {
     "data": {
      "text/plain": [
       "[(np.int64(17374),\n",
       "  'El Oceanográfico',\n",
       "  np.float64(7.822105263157894),\n",
       "  'media edad con hijos'),\n",
       " (np.int64(17401),\n",
       "  'La Lonja de la Seda o de los Mercaderes',\n",
       "  np.float64(7.704736842105262),\n",
       "  'media edad con hijos'),\n",
       " (np.int64(17439),\n",
       "  'Catedral',\n",
       "  np.float64(7.689736842105263),\n",
       "  'media edad con hijos'),\n",
       " (np.int64(17438),\n",
       "  'Playa de las Arenas',\n",
       "  np.float64(7.652368421052632),\n",
       "  'media edad con hijos'),\n",
       " (np.int64(17419),\n",
       "  'Plaza de la Virgen',\n",
       "  np.float64(7.637105263157895),\n",
       "  'con hijos pequenos')]"
      ]
     },
     "execution_count": 8,
     "metadata": {},
     "output_type": "execute_result"
    }
   ],
   "source": [
    "br.recommend(\n",
    "    user_id=123,\n",
    "    n=5,)"
   ]
  }
 ],
 "metadata": {
  "kernelspec": {
   "display_name": "valencia-tour-recommender-n_5Lr2TL-py3.10",
   "language": "python",
   "name": "python3"
  },
  "language_info": {
   "codemirror_mode": {
    "name": "ipython",
    "version": 3
   },
   "file_extension": ".py",
   "mimetype": "text/x-python",
   "name": "python",
   "nbconvert_exporter": "python",
   "pygments_lexer": "ipython3",
   "version": "3.10.16"
  }
 },
 "nbformat": 4,
 "nbformat_minor": 2
}
