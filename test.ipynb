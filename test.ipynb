{
 "cells": [
  {
   "cell_type": "code",
   "execution_count": 29,
   "metadata": {},
   "outputs": [
    {
     "name": "stdout",
     "output_type": "stream",
     "text": [
      "The autoreload extension is already loaded. To reload it, use:\n",
      "  %reload_ext autoreload\n"
     ]
    }
   ],
   "source": [
    "%load_ext autoreload\n",
    "%autoreload 2"
   ]
  },
  {
   "cell_type": "code",
   "execution_count": 52,
   "metadata": {},
   "outputs": [],
   "source": [
    "from src.demographic_recommender import DemographicRecommender"
   ]
  },
  {
   "cell_type": "code",
   "execution_count": 53,
   "metadata": {},
   "outputs": [],
   "source": [
    "br=DemographicRecommender()"
   ]
  },
  {
   "cell_type": "code",
   "execution_count": 54,
   "metadata": {},
   "outputs": [
    {
     "data": {
      "text/plain": [
       "[(np.int64(17513),\n",
       "  'El Oceanográfico',\n",
       "  np.float64(3.816),\n",
       "  'tecnicos profesionales con hijos'),\n",
       " (np.int64(17374),\n",
       "  'Ciudad de las Ciencias',\n",
       "  np.float64(3.7279999999999998),\n",
       "  'media edad con hijos'),\n",
       " (np.int64(17393),\n",
       "  'Plaza de la Virgen',\n",
       "  np.float64(3.715),\n",
       "  'tecnicos profesionales con hijos'),\n",
       " (np.int64(17549),\n",
       "  'Iglesia de Santa Catalina',\n",
       "  np.float64(3.6105),\n",
       "  'media edad con hijos'),\n",
       " (np.int64(17439),\n",
       "  'Plaza del Mercado',\n",
       "  np.float64(3.5404999999999998),\n",
       "  'media edad con hijos')]"
      ]
     },
     "execution_count": 54,
     "metadata": {},
     "output_type": "execute_result"
    }
   ],
   "source": [
    "br.recommend(\n",
    "    user_id=123,\n",
    "    n=5,)"
   ]
  }
 ],
 "metadata": {
  "kernelspec": {
   "display_name": "valencia-tour-recommender-n_5Lr2TL-py3.10",
   "language": "python",
   "name": "python3"
  },
  "language_info": {
   "codemirror_mode": {
    "name": "ipython",
    "version": 3
   },
   "file_extension": ".py",
   "mimetype": "text/x-python",
   "name": "python",
   "nbconvert_exporter": "python",
   "pygments_lexer": "ipython3",
   "version": "3.10.16"
  }
 },
 "nbformat": 4,
 "nbformat_minor": 2
}
